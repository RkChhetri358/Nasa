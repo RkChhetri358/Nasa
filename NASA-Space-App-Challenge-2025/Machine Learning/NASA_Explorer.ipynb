{
 "cells": [
  {
   "cell_type": "code",
   "execution_count": 4,
   "id": "6fe72556",
   "metadata": {},
   "outputs": [
    {
     "name": "stdout",
     "output_type": "stream",
     "text": [
      "🚀 Backend running at http://127.0.0.1:8000  (PID: 2500 )\n"
     ]
    }
   ],
   "source": [
    "import subprocess, sys\n",
    "\n",
    "# Run backend from Jupyter\n",
    "proc = subprocess.Popen([\n",
    "    sys.executable, \n",
    "    \"-m\", \"uvicorn\", \n",
    "    \"Backend.main:app\",   # folder.file:object\n",
    "    \"--reload\", \n",
    "    \"--port\", \"8000\"\n",
    "])\n",
    "\n",
    "print(\"🚀 Backend running at http://127.0.0.1:8000  (PID:\", proc.pid, \")\")\n",
    "\n",
    "# Later you can stop with:\n",
    "# proc.terminate()\n",
    "# proc.kill()\n"
   ]
  },
  {
   "cell_type": "code",
   "execution_count": 5,
   "id": "92ca6eaf",
   "metadata": {},
   "outputs": [
    {
     "name": "stdout",
     "output_type": "stream",
     "text": [
      "Status: 200\n",
      "Content type: image/jpeg\n",
      "Status: 200\n",
      "JSON: {'features': []}\n",
      "Status: 200\n",
      "Content type: image/jpeg\n",
      "Status: 200\n",
      "JSON: {'features': []}\n"
     ]
    }
   ],
   "source": [
    "import requests\n",
    "\n",
    "# Test without detection\n",
    "url = \"http://127.0.0.1:8000/proxy/Moon/EQ/LRO_WAC_Mosaic_Global_303ppd_v02/1.0.0/default/default028mm/0/0/0.jpg\"\n",
    "r = requests.get(url)\n",
    "print(\"Status:\", r.status_code)\n",
    "print(\"Content type:\", r.headers[\"content-type\"])\n",
    "\n",
    "# Test with detection\n",
    "url_detect = url + \"?detect=true\"\n",
    "r2 = requests.get(url_detect)\n",
    "print(\"Status:\", r2.status_code)\n",
    "print(\"JSON:\", r2.json())\n",
    "import requests\n",
    "\n",
    "# Test without detection\n",
    "url = \"http://127.0.0.1:8000/proxy/Moon/EQ/LRO_WAC_Mosaic_Global_303ppd_v02/1.0.0/default/default028mm/0/0/0.jpg\"\n",
    "r = requests.get(url)\n",
    "print(\"Status:\", r.status_code)\n",
    "print(\"Content type:\", r.headers[\"content-type\"])\n",
    "\n",
    "# Test with detection\n",
    "url_detect = url + \"?detect=true\"\n",
    "r2 = requests.get(url_detect)\n",
    "print(\"Status:\", r2.status_code)\n",
    "print(\"JSON:\", r2.json())\n"
   ]
  },
  {
   "cell_type": "code",
   "execution_count": null,
   "id": "93cf65d2",
   "metadata": {},
   "outputs": [],
   "source": []
  }
 ],
 "metadata": {
  "kernelspec": {
   "display_name": "venv",
   "language": "python",
   "name": "python3"
  },
  "language_info": {
   "codemirror_mode": {
    "name": "ipython",
    "version": 3
   },
   "file_extension": ".py",
   "mimetype": "text/x-python",
   "name": "python",
   "nbconvert_exporter": "python",
   "pygments_lexer": "ipython3",
   "version": "3.13.5"
  }
 },
 "nbformat": 4,
 "nbformat_minor": 5
}
